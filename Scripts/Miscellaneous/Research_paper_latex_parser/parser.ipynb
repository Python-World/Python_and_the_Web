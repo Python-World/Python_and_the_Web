{
  "nbformat": 4,
  "nbformat_minor": 0,
  "metadata": {
    "colab": {
      "name": "Copy of NLP Phase 2.ipynb",
      "provenance": [],
      "collapsed_sections": [],
      "toc_visible": true
    },
    "kernelspec": {
      "name": "python3",
      "display_name": "Python 3"
    },
    "accelerator": "TPU"
  },
  "cells": [
    {
      "cell_type": "markdown",
      "metadata": {
        "id": "69Of-VcYM5Em",
        "colab_type": "text"
      },
      "source": [
        "#Extracting text from LaTex file of any research paper"
      ]
    },
    {
      "cell_type": "markdown",
      "metadata": {
        "id": "zOiPoXMvcB_E",
        "colab_type": "text"
      },
      "source": [
        "Importing the necessary libraries:"
      ]
    },
    {
      "cell_type": "code",
      "metadata": {
        "id": "9nxilX8BcKKG",
        "colab_type": "code",
        "colab": {}
      },
      "source": [
        "import re\n",
        "import json  "
      ],
      "execution_count": null,
      "outputs": []
    },
    {
      "cell_type": "markdown",
      "metadata": {
        "id": "-3E-_8Z3Jq2U",
        "colab_type": "text"
      },
      "source": [
        "Reading the latex file:"
      ]
    },
    {
      "cell_type": "code",
      "metadata": {
        "id": "sLQzklQTJu5n",
        "colab_type": "code",
        "colab": {}
      },
      "source": [
        "data = open('p1.tex').read()"
      ],
      "execution_count": null,
      "outputs": []
    },
    {
      "cell_type": "markdown",
      "metadata": {
        "id": "K-zLqWwXky2N",
        "colab_type": "text"
      },
      "source": [
        "Getting rid of all the unwanted tags before extraction of text:"
      ]
    },
    {
      "cell_type": "code",
      "metadata": {
        "id": "PI591JMak3y9",
        "colab_type": "code",
        "colab": {}
      },
      "source": [
        "def purge_images(data):\n",
        "    imgs = re.findall(r'begin{figure}(.*?)end{figure}', data,re.S)\n",
        "    start = \"\\\\begin{figure}\"\n",
        "    end = \"end{figure}\"\n",
        "    imgs = [start + img + end for img in imgs]\n",
        "    for img in imgs:\n",
        "        data = data.replace(img,\" \")\n",
        "    return data\n",
        "\n",
        "def purge_table(data):\n",
        "    tables = re.findall(r'begin{table}(.*?)end{table}', data,re.S)\n",
        "    start = \"\\\\begin{table}\"\n",
        "    end = \"end{table}\"\n",
        "    tables = [start + table + end for table in tables]\n",
        "    for table in tables:\n",
        "        data = data.replace(table,\" \")\n",
        "    return data\n",
        "\n",
        "def purge_equation(data):\n",
        "    equations = re.findall(r'begin{equation}(.*?)end{equation}', data,re.S)\n",
        "    start = \"\\\\begin{equation}\"\n",
        "    end = \"end{equation}\"\n",
        "    equations = [start + equation + end for equation in equations]\n",
        "    for equation in equations:\n",
        "        data = data.replace(equation,\" \")\n",
        "    return data\n",
        "\n",
        "data = purge_images(data)\n",
        "data = purge_table(data)\n",
        "data = purge_equation(data)   "
      ],
      "execution_count": null,
      "outputs": []
    },
    {
      "cell_type": "markdown",
      "metadata": {
        "id": "kFjDJ6JRWDc9",
        "colab_type": "text"
      },
      "source": [
        "Function to convert list to string since the findall function returns a list"
      ]
    },
    {
      "cell_type": "code",
      "metadata": {
        "id": "kWqaRV4FVsRA",
        "colab_type": "code",
        "colab": {}
      },
      "source": [
        "def listToString(s):  \n",
        "    # initialize an empty string \n",
        "    str1 = \"\"  \n",
        "    # traverse in the string   \n",
        "    for ele in s:  \n",
        "        str1 += ele   \n",
        "    # return string   \n",
        "    return str1  "
      ],
      "execution_count": null,
      "outputs": []
    },
    {
      "cell_type": "markdown",
      "metadata": {
        "id": "hBi8McmScrUl",
        "colab_type": "text"
      },
      "source": [
        "Extracting the title:"
      ]
    },
    {
      "cell_type": "code",
      "metadata": {
        "id": "fnHec6ObcwQT",
        "colab_type": "code",
        "colab": {
          "base_uri": "https://localhost:8080/",
          "height": 34
        },
        "outputId": "68eb56a5-3fac-4999-919f-ee83dea5b5d0"
      },
      "source": [
        "title = re.findall(r'title{(.*?)}',data,re.S)\n",
        "title = listToString(title)\n",
        "print(title)"
      ],
      "execution_count": null,
      "outputs": [
        {
          "output_type": "stream",
          "text": [
            "A Sample Research Paper\n"
          ],
          "name": "stdout"
        }
      ]
    },
    {
      "cell_type": "markdown",
      "metadata": {
        "id": "lcYbME2oomQg",
        "colab_type": "text"
      },
      "source": [
        "Extracting the authors:"
      ]
    },
    {
      "cell_type": "code",
      "metadata": {
        "id": "CI4olibco6O0",
        "colab_type": "code",
        "colab": {
          "base_uri": "https://localhost:8080/",
          "height": 34
        },
        "outputId": "4730937b-4c98-4bc0-cef3-d2be97f06fe0"
      },
      "source": [
        "author = re.findall(r'author{(.*?)}',data,re.S)\n",
        "author = listToString(author)\n",
        "print(author)"
      ],
      "execution_count": null,
      "outputs": [
        {
          "output_type": "stream",
          "text": [
            "I.M. Great and So.R. Yu\n"
          ],
          "name": "stdout"
        }
      ]
    },
    {
      "cell_type": "markdown",
      "metadata": {
        "id": "msjnC9RKcOJC",
        "colab_type": "text"
      },
      "source": [
        "Extracting the abstract:"
      ]
    },
    {
      "cell_type": "code",
      "metadata": {
        "id": "ewj1hcl-bCGe",
        "colab_type": "code",
        "colab": {
          "base_uri": "https://localhost:8080/",
          "height": 88
        },
        "outputId": "b6f5bce6-769b-43cc-eb9d-ffac7e3784a5"
      },
      "source": [
        "abstract = re.findall(r'\\\\begin{abstract}(.*?)\\\\end{abstract}', data, re.S)\n",
        "abstract = listToString(abstract)\n",
        "print(abstract)"
      ],
      "execution_count": null,
      "outputs": [
        {
          "output_type": "stream",
          "text": [
            "\n",
            "An abstract is a great convenience for the reader and is required by all journals. Lorem ipsum dolor sit amet, consectetur adipiscing elit. Nam convallis diam at lobortis dapibus. In id efficitur libero. Vestibulum vel ullamcorper neque. Orci varius natoque penatibus et magnis dis parturient montes, nascetur ridiculus mus. Quisque et felis commodo, rutrum erat at, sodales odio. Nam mi ipsum, imperdiet vitae augue non, convallis accumsan ante. Vivamus in lacus id nisi gravida condimentum vitae convallis tortor. In viverra congue sollicitudin. Quisque eget leo feugiat, tincidunt enim et, pretium orci. Duis condimentum maximus turpis at malesuada. Morbi laoreet metus felis, et varius odio consequat ac. Curabitur rutrum ac sapien ut ultrices. Donec et pretium elit. Pellentesque habitant morbi tristique senectus et netus et malesuada fames ac turpis egestas.\n",
            "\n"
          ],
          "name": "stdout"
        }
      ]
    },
    {
      "cell_type": "markdown",
      "metadata": {
        "id": "iVVbaGWEpl0C",
        "colab_type": "text"
      },
      "source": [
        "Extracting the introduction:"
      ]
    },
    {
      "cell_type": "code",
      "metadata": {
        "id": "grtQQhm2po9b",
        "colab_type": "code",
        "colab": {
          "base_uri": "https://localhost:8080/",
          "height": 156
        },
        "outputId": "c2e83fc6-f342-4f72-8379-5b1011909daa"
      },
      "source": [
        "introduction = re.findall(r'\\\\section{Introduction}(.*?)\\\\',data,re.S)\n",
        "introduction = listToString(introduction)\n",
        "print(introduction)"
      ],
      "execution_count": null,
      "outputs": [
        {
          "output_type": "stream",
          "text": [
            "\n",
            "\n",
            "Using latex is pretty easy if you have a sample document you can follow.Lorem ipsum dolor sit amet, consectetur adipiscing elit. Sed volutpat ornare odio et faucibus. Donec fringilla massa eget auctor viverra. Mauris a imperdiet est. Cras tincidunt nulla ut elit tristique ultricies. Phasellus nec orci vel mi suscipit maximus at vitae tortor. Vivamus sed libero vel lacus aliquam rhoncus. Ut in lacinia nunc. Nullam quis mauris leo. Phasellus vitae nisl condimentum quam congue volutpat. Quisque et dapibus ipsum. Curabitur fringilla pellentesque elit, non posuere purus malesuada id. Pellentesque rutrum vitae urna eu mattis.\n",
            "\n",
            "Maecenas ac congue massa. Quisque a sem turpis. Duis et diam ex. Suspendisse et enim interdum, sodales risus eu, ultrices est. Suspendisse eu odio enim. In vulputate odio porttitor tincidunt vestibulum. Praesent tincidunt ullamcorper purus, quis semper felis volutpat quis.\n",
            "\n",
            "\n"
          ],
          "name": "stdout"
        }
      ]
    },
    {
      "cell_type": "markdown",
      "metadata": {
        "id": "FYxnWEPUJSwi",
        "colab_type": "text"
      },
      "source": [
        "Extracting the results:"
      ]
    },
    {
      "cell_type": "code",
      "metadata": {
        "id": "YG_GrwJhJXZ-",
        "colab_type": "code",
        "colab": {
          "base_uri": "https://localhost:8080/",
          "height": 207
        },
        "outputId": "04faf45b-b02a-4d1f-e03d-cec3dc55425e"
      },
      "source": [
        "results = re.findall(r'\\\\section{Results}(.*?)\\\\',data,re.S)\n",
        "results = listToString(results)\n",
        "print(results)"
      ],
      "execution_count": null,
      "outputs": [
        {
          "output_type": "stream",
          "text": [
            "\n",
            "Including figures, tables, and equations is easy. Latex also permits easy reference to document elements (figures, tables, sections). Lorem ipsum dolor sit amet, consectetur adipiscing elit. Aliquam tincidunt lorem luctus eros dictum faucibus. Fusce euismod libero et erat pretium dapibus. Pellentesque faucibus hendrerit est, ac fringilla urna. In porta, ante eu dictum vestibulum, nisl nulla euismod purus, ac bibendum nibh ante vel elit. Fusce diam ante, tincidunt id eleifend a, hendrerit vitae tellus. Duis pretium urna ac vestibulum eleifend. Suspendisse potenti. Aliquam varius odio in pretium semper. Ut faucibus lobortis mauris vel sollicitudin. Nullam condimentum, lacus quis mattis pellentesque, massa nulla cursus nisi, aliquet eleifend est tellus ut libero.\n",
            "\n",
            " \n",
            "\n",
            " \n",
            "\n",
            " \n",
            "\n",
            "\n"
          ],
          "name": "stdout"
        }
      ]
    },
    {
      "cell_type": "markdown",
      "metadata": {
        "id": "OCLM7tNVrOGP",
        "colab_type": "text"
      },
      "source": [
        "Extracting the conclusions:"
      ]
    },
    {
      "cell_type": "code",
      "metadata": {
        "id": "Xc1qbvqgrLkB",
        "colab_type": "code",
        "colab": {
          "base_uri": "https://localhost:8080/",
          "height": 122
        },
        "outputId": "956acbdb-228b-4ebc-c0ae-3821f5adc794"
      },
      "source": [
        "conclusions = re.findall(r'\\\\section{Conclusions}(.*?)\\\\',data,re.S)\n",
        "conclusions = listToString(conclusions)\n",
        "print(conclusions)"
      ],
      "execution_count": null,
      "outputs": [
        {
          "output_type": "stream",
          "text": [
            "\n",
            "\n",
            "Man, latex is great! Lorem ipsum dolor sit amet, consectetur adipiscing elit. Aliquam tincidunt lorem luctus eros dictum faucibus. Fusce euismod libero et erat pretium dapibus. Pellentesque faucibus hendrerit est, ac fringilla urna. In porta, ante eu dictum vestibulum, nisl nulla euismod purus, ac bibendum nibh ante vel elit. Fusce diam ante, tincidunt id eleifend a, hendrerit vitae tellus. Duis pretium urna ac vestibulum eleifend. Suspendisse potenti. Aliquam varius odio in pretium semper. Ut faucibus lobortis mauris vel sollicitudin. Nullam condimentum, lacus quis mattis pellentesque, massa nulla cursus nisi, aliquet eleifend est tellus ut libero.\n",
            "\n",
            "\n"
          ],
          "name": "stdout"
        }
      ]
    },
    {
      "cell_type": "markdown",
      "metadata": {
        "id": "J_Lvs9FkMGEn",
        "colab_type": "text"
      },
      "source": [
        "Extracting the acknowledgments:"
      ]
    },
    {
      "cell_type": "code",
      "metadata": {
        "id": "3hL78TPFffGH",
        "colab_type": "code",
        "colab": {
          "base_uri": "https://localhost:8080/",
          "height": 105
        },
        "outputId": "95857884-8fc1-474a-ca0e-871b46175a3c"
      },
      "source": [
        "acknowledgments = re.findall(r'\\\\acknowledgments(.*?)\\\\',data,re.S)\n",
        "acknowledgments = listToString(acknowledgments)\n",
        "print(acknowledgments)"
      ],
      "execution_count": null,
      "outputs": [
        {
          "output_type": "stream",
          "text": [
            "\n",
            "The author is grateful to Donald Knuth for inventing tex, and making publication quality typesetting a reality for scientists around the world.\n",
            "\n",
            "\n"
          ],
          "name": "stdout"
        }
      ]
    },
    {
      "cell_type": "markdown",
      "metadata": {
        "id": "7yu6bbjIbhkr",
        "colab_type": "text"
      },
      "source": [
        "Creating a dictionary of all the extracted text:"
      ]
    },
    {
      "cell_type": "code",
      "metadata": {
        "id": "ka6qb6bRM0Hx",
        "colab_type": "code",
        "colab": {}
      },
      "source": [
        "a_dict = {}\n",
        "\n",
        "for variable in [\"title\", \"author\", \"abstract\",\"introduction\",\"results\",\"conclusions\",\"acknowledgments\"]:\n",
        "    a_dict[variable] = eval(variable)\n",
        "    dict_1.append(a_dict)\n",
        "\n",
        "print(a_dict)"
      ],
      "execution_count": null,
      "outputs": []
    },
    {
      "cell_type": "markdown",
      "metadata": {
        "id": "uE4P_xlSbmlj",
        "colab_type": "text"
      },
      "source": [
        "Converting the dictionary into a JSON file:"
      ]
    },
    {
      "cell_type": "code",
      "metadata": {
        "id": "nErVmQx_Z515",
        "colab_type": "code",
        "colab": {}
      },
      "source": [
        "with open(\"extracted_data.json\", \"w\") as outfile:  \n",
        "    json.dump(a_dict, outfile) "
      ],
      "execution_count": null,
      "outputs": []
    }
  ]
}