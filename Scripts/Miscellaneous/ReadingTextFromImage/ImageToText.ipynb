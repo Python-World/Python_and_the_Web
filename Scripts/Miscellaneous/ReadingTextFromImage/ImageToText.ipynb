{
 "cells": [
  {
   "cell_type": "code",
   "execution_count": 1,
   "metadata": {},
   "outputs": [],
   "source": [
    "import cv2\n",
    "import pytesseract\n",
    "pytesseract.pytesseract.tesseract_cmd = r'C:\\\\Program Files\\\\Tesseract-OCR\\\\tesseract.exe'"
   ]
  },
  {
   "cell_type": "code",
   "execution_count": 3,
   "metadata": {},
   "outputs": [
    {
     "name": "stdout",
     "output_type": "stream",
     "text": [
      "“Actas ifwhat\n",
      "\n",
      "you do makes\n",
      "adifference,\n",
      "IT DOES.\n"
     ]
    }
   ],
   "source": [
    "img = cv2.imread(r'C:\\Users\\SUCHITRA\\Desktop\\Deep Learning\\ReadingText\\download.jpg')\n",
    "text = pytesseract.image_to_string(img)\n",
    "print(text)"
   ]
  },
  {
   "cell_type": "code",
   "execution_count": 6,
   "metadata": {},
   "outputs": [
    {
     "name": "stdout",
     "output_type": "stream",
     "text": [
      "Oreo\n",
      "\n",
      "Before you read:\n",
      "What do | know now?\n",
      "~- What do I want to\n",
      "find out?\n",
      "\n",
      "While you read:\n",
      "—-Which information is\n",
      "important for me?\n",
      "\n",
      "~ What's next?\n",
      "\n",
      "After you read:\n",
      "\n",
      "main idea & important\n",
      "details?\n",
      "\n",
      "~ What do I need to\n",
      "remember?\n"
     ]
    }
   ],
   "source": [
    "\n",
    "image = cv2.imread(r'C:\\Users\\SUCHITRA\\Desktop\\Deep Learning\\ReadingText\\Image3.jpg')\n",
    "text = pytesseract.image_to_string(image)\n",
    "print(text)"
   ]
  },
  {
   "cell_type": "code",
   "execution_count": null,
   "metadata": {},
   "outputs": [],
   "source": []
  }
 ],
 "metadata": {
  "kernelspec": {
   "display_name": "Python 3",
   "language": "python",
   "name": "python3"
  },
  "language_info": {
   "codemirror_mode": {
    "name": "ipython",
    "version": 3
   },
   "file_extension": ".py",
   "mimetype": "text/x-python",
   "name": "python",
   "nbconvert_exporter": "python",
   "pygments_lexer": "ipython3",
   "version": "3.7.7"
  }
 },
 "nbformat": 4,
 "nbformat_minor": 4
}
